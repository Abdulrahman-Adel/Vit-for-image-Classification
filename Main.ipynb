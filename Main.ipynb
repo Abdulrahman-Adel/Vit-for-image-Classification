{
  "cells": [
    {
      "cell_type": "code",
      "execution_count": 1,
      "metadata": {
        "id": "edKBGNRnif8h"
      },
      "outputs": [],
      "source": [
        "import tensorflow as tf\n",
        "from tensorflow import keras\n",
        "import numpy as np"
      ]
    },
    {
      "cell_type": "code",
      "execution_count": 2,
      "metadata": {
        "id": "-0jpxS8NiwMw"
      },
      "outputs": [],
      "source": [
        "(x_train, y_train), (x_test, y_test) = keras.datasets.cifar100.load_data()\n",
        "\n",
        "x_train, x_test = tf.cast(x_train, tf.float32), tf.cast(x_test, tf.float32)\n",
        "y_train, y_test = keras.utils.to_categorical(y_train), keras.utils.to_categorical(y_test)"
      ]
    },
    {
      "cell_type": "code",
      "execution_count": 9,
      "metadata": {
        "id": "vjf4cJKmi0vJ"
      },
      "outputs": [],
      "source": [
        "from model import VisionTransformer\n",
        "\n",
        "vit_model = VisionTransformer(embed_size = 128,\n",
        "                 patch_size = 16,\n",
        "                 n_heads = 12, \n",
        "                 mlpHidden_size = 512, \n",
        "                 mlp_activation = 'gelu',\n",
        "                n_blocks = 4,\n",
        "                n_classes = 100)"
      ]
    },
    {
      "cell_type": "code",
      "execution_count": 10,
      "metadata": {
        "id": "WTm7joYLjHjy"
      },
      "outputs": [],
      "source": [
        "vit_model.compile(loss = 'categorical_crossentropy', optimizer = 'adam', metrics = ['accuracy'])"
      ]
    },
    {
      "cell_type": "code",
      "source": [
        "EarlyStopping_cb = keras.callbacks.EarlyStopping(patience = 10)"
      ],
      "metadata": {
        "id": "ZDErhg1VK9FI"
      },
      "execution_count": 16,
      "outputs": []
    },
    {
      "cell_type": "code",
      "execution_count": 17,
      "metadata": {
        "colab": {
          "base_uri": "https://localhost:8080/"
        },
        "id": "k8jp_iYsjpT3",
        "outputId": "891cb6ff-e3a7-43ca-bea4-d4ee3b4103f2"
      },
      "outputs": [
        {
          "output_type": "stream",
          "name": "stdout",
          "text": [
            "Epoch 1/100\n",
            "157/157 [==============================] - 7s 25ms/step - loss: 3.8240 - accuracy: 0.1160 - val_loss: 3.8297 - val_accuracy: 0.1138\n",
            "Epoch 2/100\n",
            "157/157 [==============================] - 3s 22ms/step - loss: 3.7370 - accuracy: 0.1297 - val_loss: 3.8117 - val_accuracy: 0.1246\n",
            "Epoch 3/100\n",
            "157/157 [==============================] - 3s 21ms/step - loss: 3.6587 - accuracy: 0.1440 - val_loss: 3.7249 - val_accuracy: 0.1380\n",
            "Epoch 4/100\n",
            "157/157 [==============================] - 3s 21ms/step - loss: 3.5694 - accuracy: 0.1604 - val_loss: 3.6366 - val_accuracy: 0.1482\n",
            "Epoch 5/100\n",
            "157/157 [==============================] - 3s 21ms/step - loss: 3.4885 - accuracy: 0.1716 - val_loss: 3.5949 - val_accuracy: 0.1580\n",
            "Epoch 6/100\n",
            "157/157 [==============================] - 3s 21ms/step - loss: 3.4127 - accuracy: 0.1843 - val_loss: 3.5494 - val_accuracy: 0.1649\n",
            "Epoch 7/100\n",
            "157/157 [==============================] - 3s 21ms/step - loss: 3.3402 - accuracy: 0.1962 - val_loss: 3.5230 - val_accuracy: 0.1682\n",
            "Epoch 8/100\n",
            "157/157 [==============================] - 3s 21ms/step - loss: 3.2561 - accuracy: 0.2115 - val_loss: 3.5009 - val_accuracy: 0.1757\n",
            "Epoch 9/100\n",
            "157/157 [==============================] - 3s 21ms/step - loss: 3.1810 - accuracy: 0.2234 - val_loss: 3.4967 - val_accuracy: 0.1822\n",
            "Epoch 10/100\n",
            "157/157 [==============================] - 4s 22ms/step - loss: 3.1011 - accuracy: 0.2378 - val_loss: 3.5109 - val_accuracy: 0.1850\n",
            "Epoch 11/100\n",
            "157/157 [==============================] - 3s 22ms/step - loss: 3.0244 - accuracy: 0.2524 - val_loss: 3.5309 - val_accuracy: 0.1839\n",
            "Epoch 12/100\n",
            "157/157 [==============================] - 3s 22ms/step - loss: 2.9386 - accuracy: 0.2669 - val_loss: 3.4829 - val_accuracy: 0.1884\n",
            "Epoch 13/100\n",
            "157/157 [==============================] - 3s 22ms/step - loss: 2.8433 - accuracy: 0.2845 - val_loss: 3.5231 - val_accuracy: 0.1904\n",
            "Epoch 14/100\n",
            "157/157 [==============================] - 4s 27ms/step - loss: 2.7433 - accuracy: 0.3045 - val_loss: 3.5872 - val_accuracy: 0.1921\n",
            "Epoch 15/100\n",
            "157/157 [==============================] - 3s 21ms/step - loss: 2.6365 - accuracy: 0.3234 - val_loss: 3.6283 - val_accuracy: 0.1922\n",
            "Epoch 16/100\n",
            "157/157 [==============================] - 3s 21ms/step - loss: 2.5152 - accuracy: 0.3490 - val_loss: 3.6639 - val_accuracy: 0.1935\n",
            "Epoch 17/100\n",
            "157/157 [==============================] - 3s 21ms/step - loss: 2.3920 - accuracy: 0.3737 - val_loss: 3.8051 - val_accuracy: 0.1876\n",
            "Epoch 18/100\n",
            "157/157 [==============================] - 3s 21ms/step - loss: 2.2522 - accuracy: 0.4049 - val_loss: 3.8226 - val_accuracy: 0.1937\n",
            "Epoch 19/100\n",
            "157/157 [==============================] - 3s 21ms/step - loss: 2.1264 - accuracy: 0.4326 - val_loss: 3.9277 - val_accuracy: 0.1853\n",
            "Epoch 20/100\n",
            "157/157 [==============================] - 3s 21ms/step - loss: 1.9897 - accuracy: 0.4620 - val_loss: 4.0877 - val_accuracy: 0.1763\n",
            "Epoch 21/100\n",
            "157/157 [==============================] - 3s 21ms/step - loss: 1.8232 - accuracy: 0.5027 - val_loss: 4.2146 - val_accuracy: 0.1785\n",
            "Epoch 22/100\n",
            "157/157 [==============================] - 3s 21ms/step - loss: 1.6964 - accuracy: 0.5342 - val_loss: 4.3488 - val_accuracy: 0.1871\n"
          ]
        }
      ],
      "source": [
        "history = vit_model.fit(x_train, y_train, validation_split = 0.2,\n",
        "                        epochs = 100, batch_size = 256, \n",
        "                        callbacks = [EarlyStopping_cb])"
      ]
    }
  ],
  "metadata": {
    "accelerator": "GPU",
    "colab": {
      "collapsed_sections": [],
      "provenance": []
    },
    "kernelspec": {
      "display_name": "Python 3",
      "name": "python3"
    },
    "language_info": {
      "name": "python"
    }
  },
  "nbformat": 4,
  "nbformat_minor": 0
}